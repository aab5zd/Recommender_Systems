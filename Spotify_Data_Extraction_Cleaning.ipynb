{
 "cells": [
  {
   "cell_type": "markdown",
   "id": "a68d7c3d",
   "metadata": {},
   "source": [
    "# Recommender Engine: Spotify Data Extraction with Tekore"
   ]
  },
  {
   "cell_type": "code",
   "execution_count": 1,
   "id": "6d3cf729-c3e2-468c-9944-380825757496",
   "metadata": {},
   "outputs": [],
   "source": [
    "# Import Libraries\n",
    "import os\n",
    "import numpy as np\n",
    "import pandas as pd\n",
    "import dotenv\n",
    "import tekore as tk"
   ]
  },
  {
   "cell_type": "markdown",
   "id": "c8e060c2-6937-470d-b2c6-97aa9be69475",
   "metadata": {
    "tags": []
   },
   "source": [
    "## Authentification steps"
   ]
  },
  {
   "cell_type": "code",
   "execution_count": 2,
   "id": "27e408bd-af87-40f9-b336-d8c384592b12",
   "metadata": {},
   "outputs": [],
   "source": [
    "# Load ID and Secret\n",
    "dotenv.load_dotenv()\n",
    "client_id = os.getenv('ClientID')\n",
    "client_secret=os.getenv('ClientSecret')\n",
    "redirect_uri='http://localhost:8888/callback'\n",
    "\n",
    "#generate app token\n",
    "app_token = tk.request_client_token(client_id, client_secret)"
   ]
  },
  {
   "cell_type": "code",
   "execution_count": 3,
   "id": "4d41ee55-b6dd-4c54-8fd9-f2c3e4f694c2",
   "metadata": {},
   "outputs": [],
   "source": [
    "#connect to api\n",
    "spotify = tk.Spotify(app_token,chunked_on=True,max_limits_on=False)"
   ]
  },
  {
   "cell_type": "code",
   "execution_count": 5,
   "id": "959b4600",
   "metadata": {},
   "outputs": [
    {
     "name": "stdout",
     "output_type": "stream",
     "text": [
      "Opening browser for Spotify login...\n"
     ]
    },
    {
     "name": "stdin",
     "output_type": "stream",
     "text": [
      "Please paste redirect URL:  http://localhost:8888/callback?code=AQDrefXkvW2Wt0NYQAPFNmp92IHl8Yip7jYVQwEQuW-vhfR8le1pOUqN1VqVFVKvyQHVruKLmI9eKvXBfiCvo3lraNRGlQd9Nc_A8Y0dhMVV24No-0ubWgFESRgcYDjTrwrkzVVBo087kaha0CWkQc0Z66zX1stELaAB3W1DstH_scRhTQdfT10DtqqC4uiXb4P_jJnPuZbFTR6n-LNZf8-swQ9hb0UqxFXO26MJ6P0SfBZrukl373-I1VmiTbqcEfSgHqy73S9heQylWlBWJpOW_VMcVq5yXwxmxm3I6uFNjrspjVArVhM4zJ-R0uje-m2r2SaCC0gWzBhVwFz1_IusZ2D-B1IYWFurkmKA4b1QmC_bQs3jRkjNnpvePz0VjiRdzspd_5K6dJU7P73Fl4c3SdeP1w0kfEqDf1KQZ6tBedyriyEUsh1UhIAyV6R0isKI7-4C41WE8bEkzHyAwm_EpOitKnHIDWCGwfYX6nK-NcxjgpAf-y_Y7nmcxK7L8nFKRkc2TKtSh4ldkzPCGRK6dc5vJMKUXMTy2-41hF2V5eKojLxivpEEEC8ZGG4f1_2-adKthr_z6Ux5lDjTS4OFSUU0xOhrAvhmDUyBUNtY78rdCzCJow55f7OzQ3ZCTrZJXYjQdXipD6Jheny_Ikdol8ASC1wREKDPzOatzkKPcs7eKg&state=eMlLc8EjPYNVQJ44p5StO0k-2F8iggPGi86tHoDHUJQ\n"
     ]
    }
   ],
   "source": [
    "#generate a user token to access user data\n",
    "user_token = tk.prompt_for_user_token(\n",
    "    client_id,\n",
    "    client_secret,\n",
    "    redirect_uri,\n",
    "    scope=tk.scope.every\n",
    ")"
   ]
  },
  {
   "cell_type": "code",
   "execution_count": 6,
   "id": "660be5ef",
   "metadata": {},
   "outputs": [],
   "source": [
    "spotify.token = user_token"
   ]
  },
  {
   "cell_type": "markdown",
   "id": "72a2d465-0822-4c32-b68a-eae50b929815",
   "metadata": {},
   "source": [
    "## Data Extraction"
   ]
  },
  {
   "cell_type": "code",
   "execution_count": 7,
   "id": "cd682900-5c05-477c-83da-754879381dad",
   "metadata": {},
   "outputs": [
    {
     "name": "stdout",
     "output_type": "stream",
     "text": [
      "Whoever You Are spotify:track:5Yq2IBzA24Kex9RQ2By7MQ\n",
      "Everywhere I'll Ever Be spotify:track:10mQ8GRpBfQuySHPvJoWHL\n",
      "On the Cusp spotify:track:6F3iddkEZ25Tm6eF00Uoha\n",
      "ME vs ME spotify:track:3NCGvnHRoedGXaqR42fxmc\n",
      "In a Minute spotify:track:7k1c4N0lvcP5RtDBKTHoTW\n",
      "Astrology Joint spotify:track:1jcGbrSCZ32Q2vyvOpOZzg\n",
      "White Gloves spotify:track:4AKUOaCRcoKTFnVI9LtsrN\n",
      "Straight Talker spotify:track:6Gq99VdfbBlsw9qlAZp6x4\n",
      "Say You Want Me - Single Version spotify:track:1xTYy3K3hiTcoZfoD7culn\n",
      "POF spotify:track:1NY9g5OFUoezXeTveFYWSM\n",
      "ENERGY (feat. Beam) spotify:track:0314PeD1sQNonfVWix3B2K\n",
      "HEATED spotify:track:1w7cgGZR86yWz1pA2puVJD\n",
      "NEON PEACH feat. Tyler, The Creator spotify:track:5PF2WtSZV4EtmGx4oER1zt\n",
      "ALIEN SUPERSTAR spotify:track:1Hohk6AufHZOrrhMXZppax\n",
      "Where I Go (feat. H.E.R.) spotify:track:3MlQPB0wJuopo3NTZGlMpI\n",
      "After Last Night (with Thundercat & Bootsy Collins) spotify:track:6jGAh1bFnXt1Muj9zeHveZ\n",
      "Cómo Me Quieres spotify:track:11AURg9Kbju7LOcwQnR17f\n",
      "Sidepiece spotify:track:3o0zYn7dQtUZ1FRevTR8LZ\n",
      "VIRGO'S GROOVE spotify:track:0Fl4eWzVaMUOdXcOrj6F1q\n",
      "It's Plenty spotify:track:5hVjoL3sHepZROri63wBxP\n"
     ]
    }
   ],
   "source": [
    "#get top user tracks\n",
    "tracks = spotify.current_user_top_tracks(limit=20)\n",
    "\n",
    "#print top tracks and their Ids\n",
    "for track in tracks.items:\n",
    "    print(track.name,track.uri)"
   ]
  },
  {
   "cell_type": "code",
   "execution_count": 8,
   "id": "d6e9d972",
   "metadata": {},
   "outputs": [],
   "source": [
    "## extract all songs from liked songs library\n",
    "songs=[]\n",
    "for item in spotify.all_items(spotify.saved_tracks()):\n",
    "    songs.append(item)\n"
   ]
  },
  {
   "cell_type": "code",
   "execution_count": 9,
   "id": "f555db00",
   "metadata": {},
   "outputs": [],
   "source": [
    "## extract track features\n",
    "\n",
    "#initialize empty lists\n",
    "album_name=[]\n",
    "artist_name=[]\n",
    "track_id=[]\n",
    "track_name=[]\n",
    "track_popularity=[]\n",
    "artist_id=[]\n",
    "track_uri=[]\n",
    "track_duration=[]\n",
    "track_releaseDate=[]\n",
    "album_id=[]\n",
    "\n",
    "# for each song extract each of the following features from the song object\n",
    "for i in range(len(songs)):\n",
    "    track_duration.append(songs[i].track.duration_ms)\n",
    "    track_id.append(songs[i].track.id)\n",
    "    track_name.append(songs[i].track.name)\n",
    "    track_popularity.append(songs[i].track.popularity)\n",
    "    track_uri.append(songs[i].track.uri)\n",
    "    artist_name.append(songs[i].track.artists[0].name)\n",
    "    artist_id.append(songs[i].track.artists[0].id)\n",
    "    album_id.append(songs[i].track.album.id)\n",
    "    album_name.append(songs[i].track.album.name)\n",
    "    track_releaseDate.append(songs[i].track.album.release_date)"
   ]
  },
  {
   "cell_type": "code",
   "execution_count": 10,
   "id": "2b7378ad-6592-40cc-9d87-2f9fefbf1025",
   "metadata": {},
   "outputs": [],
   "source": [
    "# create user dataframe with all of the tracks and most of the features for each song\n",
    "user_library=pd.DataFrame({'track_id':track_id,\n",
    "             'track_name':track_name,\n",
    "             'track_duration':track_duration,\n",
    "             'track_popularity':track_popularity,\n",
    "             'track_releaseDate':track_releaseDate,\n",
    "             'track_uri':track_uri,\n",
    "             'artist_name':artist_name,\n",
    "             'artist_id':artist_id,\n",
    "             'album_id':album_id,\n",
    "             'album_name':album_name,\n",
    "             })"
   ]
  },
  {
   "cell_type": "code",
   "execution_count": 11,
   "id": "8533e427",
   "metadata": {},
   "outputs": [],
   "source": [
    "#Get AudioFeatures for each track\n",
    "track_audioFeatures=[]\n",
    "with spotify.chunked(True):\n",
    "    track_audioFeatures.append(spotify.tracks_audio_features(track_id))"
   ]
  },
  {
   "cell_type": "code",
   "execution_count": 12,
   "id": "58325bdf",
   "metadata": {},
   "outputs": [],
   "source": [
    "#initialize empty lists\n",
    "acousticness=[]\n",
    "danceability =[]\n",
    "energy=[]\n",
    "instrumentalness=[]\n",
    "key=[]\n",
    "liveness=[]\n",
    "loudness=[]\n",
    "mode=[]\n",
    "speechiness=[]\n",
    "tempo=[]\n",
    "time_signature=[]\n",
    "valence=[]\n",
    "#extract each tracks audio features\n",
    "for i in range(len(track_audioFeatures[0])):\n",
    "    acousticness.append(track_audioFeatures[0][i].acousticness)\n",
    "    danceability.append(track_audioFeatures[0][i].danceability)\n",
    "    energy.append(track_audioFeatures[0][i].energy)\n",
    "    instrumentalness.append(track_audioFeatures[0][i].instrumentalness)\n",
    "    key.append(track_audioFeatures[0][i].key)\n",
    "    liveness.append(track_audioFeatures[0][i].liveness)\n",
    "    loudness.append(track_audioFeatures[0][i].loudness)\n",
    "    mode.append(track_audioFeatures[0][i].mode)\n",
    "    speechiness.append(track_audioFeatures[0][i].speechiness)\n",
    "    tempo.append(track_audioFeatures[0][i].tempo)\n",
    "    time_signature.append(track_audioFeatures[0][i].time_signature)\n",
    "    valence.append(track_audioFeatures[0][i].valence)\n"
   ]
  },
  {
   "cell_type": "code",
   "execution_count": 13,
   "id": "b00a93df",
   "metadata": {},
   "outputs": [
    {
     "name": "stderr",
     "output_type": "stream",
     "text": [
      "/Users/angie/opt/anaconda3/lib/python3.9/site-packages/tekore/_sender/client.py:70: UnknownModelAttributeWarning: \n",
      "Response contains unknown attribute: `album_group`\n",
      "This warning may be safely ignored. Please consider upgrading Tekore.\n",
      "  return post_func(*args, **kwargs)\n"
     ]
    }
   ],
   "source": [
    "#Get Album Details for each track\n",
    "album_info=[]\n",
    "artist_info=[]\n",
    "with spotify.chunked():\n",
    "    album_info.append(spotify.albums(album_id))\n",
    "    artist_info.append(spotify.artists(artist_id))"
   ]
  },
  {
   "cell_type": "code",
   "execution_count": 14,
   "id": "a5673f4b",
   "metadata": {},
   "outputs": [],
   "source": [
    "# get album and artist data\n",
    "album_genre=[]\n",
    "album_popularity=[]\n",
    "artist_popularity=[]\n",
    "artist_genres=[]\n",
    "for i in range(len(album_info[0])):\n",
    "    album_genre.append(album_info[0][i].genres)\n",
    "    album_popularity.append(album_info[0][i].popularity)\n",
    "    artist_popularity.append(artist_info[0][i].popularity)\n",
    "    artist_genres.append(artist_info[0][i].genres)\n"
   ]
  },
  {
   "cell_type": "code",
   "execution_count": 16,
   "id": "da5d2570",
   "metadata": {},
   "outputs": [],
   "source": [
    "# create data frame of all of the track features\n",
    "track_feats=pd.DataFrame({'acousticness':acousticness,\n",
    "              'danceability':danceability,\n",
    "              'energy':energy,\n",
    "              'instrumentalness':instrumentalness,\n",
    "              'key':key,\n",
    "              'liveness':liveness,\n",
    "              'loudness':loudness,\n",
    "              'mode':mode,\n",
    "              'speechiness':speechiness,\n",
    "              'tempo':tempo,\n",
    "              'time_signature':time_signature,\n",
    "              'valence':valence,           \n",
    "              'album_genre':album_genre,\n",
    "              'album_popularity':album_popularity,\n",
    "              'artist_popularity':artist_popularity,\n",
    "              'artist_genres':artist_genres})\n",
    "track_data=pd.concat([user_library,track_feats],axis=1)"
   ]
  },
  {
   "cell_type": "markdown",
   "id": "d8740fe8-9bf9-4634-affa-46793f290185",
   "metadata": {},
   "source": [
    "## Data Cleaning"
   ]
  },
  {
   "cell_type": "code",
   "execution_count": 17,
   "id": "41e4f017-074d-4f60-ba7f-ad08638a554a",
   "metadata": {},
   "outputs": [],
   "source": [
    "#track_release_date: split into month/year\n",
    "track_data['track_releaseYear']=track_data.track_releaseDate.str.split('-',expand=True)[0]\n",
    "track_data['track_releaseMonth']=track_data.track_releaseDate.str.split('-',expand=True)[1]\n",
    "track_data=track_data.drop('track_releaseDate',axis=1)"
   ]
  },
  {
   "cell_type": "code",
   "execution_count": 18,
   "id": "66094a01-56ef-4fa7-b34b-a20d8c094b62",
   "metadata": {},
   "outputs": [],
   "source": [
    "#key column: one hot encode\n",
    "track_data.key=track_data.key.astype(str)\n",
    "track_data=pd.get_dummies(track_data,prefix='key',columns=['key'])"
   ]
  },
  {
   "cell_type": "code",
   "execution_count": 19,
   "id": "cf680821-7edd-4aec-9f8c-b8664add5bdb",
   "metadata": {},
   "outputs": [],
   "source": [
    "# drop album genre columns: no data\n",
    "track_data.drop('album_genre',axis=1,inplace=True)"
   ]
  },
  {
   "cell_type": "code",
   "execution_count": 20,
   "id": "6d872096-8578-4dae-af7c-6a3b98ff762d",
   "metadata": {},
   "outputs": [],
   "source": [
    "#artist genre: obtain top 100 genres and one hot encode\n",
    "artist_genre=[]\n",
    "for i in range(len(track_data)):\n",
    "    artist_genre=artist_genre+list(track_data.artist_genres[i])"
   ]
  },
  {
   "cell_type": "code",
   "execution_count": 21,
   "id": "2c6811f0-82f9-46f9-b738-1454c3030ac7",
   "metadata": {},
   "outputs": [],
   "source": [
    "# initalize empty genre dataframe\n",
    "genre_df=pd.DataFrame()"
   ]
  },
  {
   "cell_type": "code",
   "execution_count": 25,
   "id": "55039cca-592a-4df0-9507-37cf036d20b9",
   "metadata": {
    "tags": []
   },
   "outputs": [],
   "source": [
    "# generate a list of top 100 genres\n",
    "genre_list=list(pd.DataFrame({'artist_genre':artist_genre}).value_counts().sort_values(ascending=False)[0:100].reset_index()['artist_genre'])\n",
    "\n",
    "# create one-hot encoded df of genres\n",
    "for i in range(len(track_data)):\n",
    "    for genre in genre_list[0:100]:\n",
    "        if genre in list(track_data.artist_genres[i]): #compare genre label to original data frame's genres\n",
    "            genre_df.loc[i,genre]=1\n",
    "        else:\n",
    "            genre_df.loc[i,genre]=0\n"
   ]
  },
  {
   "cell_type": "code",
   "execution_count": 26,
   "id": "6cf207e2-fa26-43cf-8a11-290454356e8c",
   "metadata": {},
   "outputs": [],
   "source": [
    "# combine track and genre dfs\n",
    "user_data=pd.concat([track_data,genre_df],axis=1)"
   ]
  },
  {
   "cell_type": "code",
   "execution_count": 27,
   "id": "d4ac04cf-0ac8-4c87-84b7-9b0f59a1cb36",
   "metadata": {},
   "outputs": [],
   "source": [
    "# drop list of genres that are now one hot encoded\n",
    "user_data.drop('artist_genres',axis=1,inplace=True)"
   ]
  },
  {
   "cell_type": "code",
   "execution_count": 28,
   "id": "64a3cb45-a837-404e-a61f-48d0034270e4",
   "metadata": {},
   "outputs": [
    {
     "data": {
      "text/html": [
       "<div>\n",
       "<style scoped>\n",
       "    .dataframe tbody tr th:only-of-type {\n",
       "        vertical-align: middle;\n",
       "    }\n",
       "\n",
       "    .dataframe tbody tr th {\n",
       "        vertical-align: top;\n",
       "    }\n",
       "\n",
       "    .dataframe thead th {\n",
       "        text-align: right;\n",
       "    }\n",
       "</style>\n",
       "<table border=\"1\" class=\"dataframe\">\n",
       "  <thead>\n",
       "    <tr style=\"text-align: right;\">\n",
       "      <th></th>\n",
       "      <th>genres</th>\n",
       "    </tr>\n",
       "  </thead>\n",
       "  <tbody>\n",
       "    <tr>\n",
       "      <th>0</th>\n",
       "      <td>r&amp;b</td>\n",
       "    </tr>\n",
       "    <tr>\n",
       "      <th>1</th>\n",
       "      <td>pop</td>\n",
       "    </tr>\n",
       "    <tr>\n",
       "      <th>2</th>\n",
       "      <td>rap</td>\n",
       "    </tr>\n",
       "    <tr>\n",
       "      <th>3</th>\n",
       "      <td>hip hop</td>\n",
       "    </tr>\n",
       "    <tr>\n",
       "      <th>4</th>\n",
       "      <td>neo soul</td>\n",
       "    </tr>\n",
       "    <tr>\n",
       "      <th>5</th>\n",
       "      <td>dance pop</td>\n",
       "    </tr>\n",
       "    <tr>\n",
       "      <th>6</th>\n",
       "      <td>alternative r&amp;b</td>\n",
       "    </tr>\n",
       "    <tr>\n",
       "      <th>7</th>\n",
       "      <td>urban contemporary</td>\n",
       "    </tr>\n",
       "    <tr>\n",
       "      <th>8</th>\n",
       "      <td>indie soul</td>\n",
       "    </tr>\n",
       "    <tr>\n",
       "      <th>9</th>\n",
       "      <td>indie r&amp;b</td>\n",
       "    </tr>\n",
       "  </tbody>\n",
       "</table>\n",
       "</div>"
      ],
      "text/plain": [
       "               genres\n",
       "0                 r&b\n",
       "1                 pop\n",
       "2                 rap\n",
       "3             hip hop\n",
       "4            neo soul\n",
       "5           dance pop\n",
       "6     alternative r&b\n",
       "7  urban contemporary\n",
       "8          indie soul\n",
       "9           indie r&b"
      ]
     },
     "execution_count": 28,
     "metadata": {},
     "output_type": "execute_result"
    }
   ],
   "source": [
    "#check top ten genres\n",
    "pd.DataFrame({'genres':genre_list})[:10]"
   ]
  },
  {
   "cell_type": "markdown",
   "id": "8d9f891e-2ad3-4b74-b1e4-2be0b120cd18",
   "metadata": {
    "tags": []
   },
   "source": [
    "## Export File"
   ]
  },
  {
   "cell_type": "code",
   "execution_count": 29,
   "id": "0bccec33-b976-402d-80ac-8795e89ba19f",
   "metadata": {},
   "outputs": [],
   "source": [
    "#Export csv\n",
    "user_data.to_csv('angie_spotify_data.csv')"
   ]
  }
 ],
 "metadata": {
  "kernelspec": {
   "display_name": "Python 3 (ipykernel)",
   "language": "python",
   "name": "python3"
  },
  "language_info": {
   "codemirror_mode": {
    "name": "ipython",
    "version": 3
   },
   "file_extension": ".py",
   "mimetype": "text/x-python",
   "name": "python",
   "nbconvert_exporter": "python",
   "pygments_lexer": "ipython3",
   "version": "3.9.13"
  }
 },
 "nbformat": 4,
 "nbformat_minor": 5
}
